{
  "cells": [
    {
      "cell_type": "code",
      "execution_count": 1,
      "metadata": {
        "colab": {
          "base_uri": "https://localhost:8080/"
        },
        "id": "itbysc9c-4hn",
        "outputId": "34534d10-d461-422c-f98f-c607f0c12d1e"
      },
      "outputs": [
        {
          "output_type": "stream",
          "name": "stdout",
          "text": [
            "Mounted at /content/drive\n",
            "baseline.csv\tdump\t       korbert_morp_korquad.csv  test.json\n",
            "bertbase11.csv\tklue2.csv      roberta_finetuned.csv\t train.json\n",
            "bertbase.csv\tklue.csv       roberta_large_origin.csv  xlm-roberta-large.csv\n",
            "blank.csv\tkoelectra.csv  roberta_origin_added.csv\n"
          ]
        }
      ],
      "source": [
        "from google.colab import drive \n",
        "drive.mount('/content/drive') \n",
        "!ls \"/content/drive/My Drive/Goorm\""
      ]
    },
    {
      "cell_type": "code",
      "source": [
        "def distance(s1,s2, debug=False):\n",
        "    if len(s1) < len(s2):\n",
        "        return distance(s2, s1, debug)\n",
        "\n",
        "    if len(s2) == 0:\n",
        "        return len(s1)\n",
        "\n",
        "    previous_row = range(len(s2) + 1)\n",
        "    for i, c1 in enumerate(s1):\n",
        "        current_row = [i + 1]\n",
        "        for j, c2 in enumerate(s2):\n",
        "            insertions = previous_row[j + 1] + 1\n",
        "            deletions = current_row[j] + 1\n",
        "            substitutions = previous_row[j] + (c1 != c2)\n",
        "            current_row.append(min(insertions, deletions, substitutions))\n",
        "\n",
        "        if debug:\n",
        "            print(current_row[1:])\n",
        "\n",
        "        previous_row = current_row\n",
        "\n",
        "    return previous_row[-1]\n",
        "\n"
      ],
      "metadata": {
        "id": "nVfUZ81XtBbV"
      },
      "execution_count": 2,
      "outputs": []
    },
    {
      "cell_type": "code",
      "source": [
        "import csv\n",
        "\n",
        "def calculate_Leven(source, ref, result_file):\n",
        "    with open(source, 'r') as input1:\n",
        "        with open(ref, 'r') as input2:\n",
        "            with open(result_file, 'w') as csvoutput:\n",
        "                reader1 = csv.reader(input1)\n",
        "                reader2 = list(csv.reader(input2))\n",
        "                writer = csv.writer(csvoutput)\n",
        "                result = []\n",
        "                mean = []\n",
        "                headers = next(reader1)\n",
        "                result.append(headers)\n",
        "                index = 0\n",
        "                for row1 in reader1:\n",
        "                    #print(\"First row\")\n",
        "                    #print(row1[1])\n",
        "                    index+=1\n",
        "                    #print(reader2[index][1])\n",
        "                    a = distance(row1[1], reader2[index][1])\n",
        "                    '''\n",
        "                    max = 0\n",
        "                    while max < 1:\n",
        "                        for row2 in reader2:\n",
        "                            a = distance(row1[1],row2[1])\n",
        "                            print(a)\n",
        "                            b = 1 - a/len(row1[1])\n",
        "                            if b > max:\n",
        "                                max = b\n",
        "                                SKU = row2[1]\n",
        "                    '''\n",
        "                    mean.append(a)\n",
        "                    row1.append(a)\n",
        "                    result.append(row1)\n",
        "                mean1 = sum(mean) / len(mean)\n",
        "                print(mean1)\n",
        "                writer.writerows(result)"
      ],
      "metadata": {
        "id": "o_kEMEMmtJYc"
      },
      "execution_count": 3,
      "outputs": []
    },
    {
      "cell_type": "code",
      "execution_count": 4,
      "metadata": {
        "colab": {
          "base_uri": "https://localhost:8080/"
        },
        "id": "Mh6Gl4jX_PZh",
        "outputId": "251656a7-7541-43e4-b34c-700fbed460d7"
      },
      "outputs": [
        {
          "output_type": "stream",
          "name": "stdout",
          "text": [
            "2.6017964071856285\n"
          ]
        }
      ],
      "source": [
        "calculate_Leven('/content/drive/MyDrive/Goorm/klue.csv', '/content/drive/MyDrive/Goorm/roberta_large_origin.csv', 'result_file.csv')"
      ]
    }
  ],
  "metadata": {
    "accelerator": "GPU",
    "colab": {
      "provenance": []
    },
    "gpuClass": "standard",
    "kernelspec": {
      "display_name": "Python 3",
      "name": "python3"
    },
    "language_info": {
      "name": "python"
    }
  },
  "nbformat": 4,
  "nbformat_minor": 0
}